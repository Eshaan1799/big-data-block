{
 "cells": [
  {
   "cell_type": "code",
   "execution_count": 26,
   "id": "f7524bbf",
   "metadata": {},
   "outputs": [],
   "source": [
    "import pandas as pd \n",
    "from time import sleep\n",
    "import json \n",
    "from json import loads\n",
    "from kafka import KafkaConsumer\n",
    "from s3fs import S3FileSystem"
   ]
  },
  {
   "cell_type": "code",
   "execution_count": 27,
   "id": "086d593d",
   "metadata": {},
   "outputs": [],
   "source": [
    "consumer = KafkaConsumer('kafka-topic',bootstrap_servers = ' 54.90.193.86',value_deserializer = lambda x : loads(x.decode('utf-8')))"
   ]
  },
  {
   "cell_type": "code",
   "execution_count": 28,
   "id": "e0f4b5f5",
   "metadata": {},
   "outputs": [],
   "source": [
    "s3 = S3FileSystem()"
   ]
  },
  {
   "cell_type": "code",
   "execution_count": null,
   "id": "c4574151",
   "metadata": {},
   "outputs": [],
   "source": [
    "for i,data in enumerate(consumer):\n",
    "    with s3.open('s3://stock-market-bucket12/stock_market_{}.json'.format(i),'w') as file:\n",
    "        json.dump(data.value,file)"
   ]
  },
  {
   "cell_type": "code",
   "execution_count": null,
   "id": "660fcf04",
   "metadata": {},
   "outputs": [],
   "source": []
  }
 ],
 "metadata": {
  "kernelspec": {
   "display_name": "Python 3 (ipykernel)",
   "language": "python",
   "name": "python3"
  },
  "language_info": {
   "codemirror_mode": {
    "name": "ipython",
    "version": 3
   },
   "file_extension": ".py",
   "mimetype": "text/x-python",
   "name": "python",
   "nbconvert_exporter": "python",
   "pygments_lexer": "ipython3",
   "version": "3.11.0"
  }
 },
 "nbformat": 4,
 "nbformat_minor": 5
}
