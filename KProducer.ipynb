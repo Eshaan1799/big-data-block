{
 "cells": [
  {
   "cell_type": "code",
   "execution_count": 20,
   "id": "3831c9b2",
   "metadata": {},
   "outputs": [],
   "source": [
    "import pandas as pd \n",
    "from kafka import KafkaProducer \n",
    "from time import sleep\n",
    "import json \n",
    "from json import dumps"
   ]
  },
  {
   "cell_type": "code",
   "execution_count": 21,
   "id": "a116df88",
   "metadata": {},
   "outputs": [],
   "source": [
    "producer = KafkaProducer(bootstrap_servers = '54.90.193.86:9092',value_serializer = lambda x : dumps(x).encode('utf-8'))"
   ]
  },
  {
   "cell_type": "code",
   "execution_count": 22,
   "id": "1ee2c16b",
   "metadata": {},
   "outputs": [],
   "source": [
    "df = pd.read_csv('stock_market.csv')"
   ]
  },
  {
   "cell_type": "code",
   "execution_count": null,
   "id": "b3af9d20",
   "metadata": {},
   "outputs": [],
   "source": [
    "while True:\n",
    "    value = df.sample(1).to_dict(orient='Records')[0]\n",
    "    producer.send('kafka-topic',value = value)"
   ]
  },
  {
   "cell_type": "code",
   "execution_count": null,
   "id": "c82a3762",
   "metadata": {},
   "outputs": [],
   "source": [
    "producer.flush()"
   ]
  },
  {
   "cell_type": "code",
   "execution_count": null,
   "id": "ae2b7596",
   "metadata": {},
   "outputs": [],
   "source": []
  }
 ],
 "metadata": {
  "kernelspec": {
   "display_name": "Python 3 (ipykernel)",
   "language": "python",
   "name": "python3"
  },
  "language_info": {
   "codemirror_mode": {
    "name": "ipython",
    "version": 3
   },
   "file_extension": ".py",
   "mimetype": "text/x-python",
   "name": "python",
   "nbconvert_exporter": "python",
   "pygments_lexer": "ipython3",
   "version": "3.11.0"
  }
 },
 "nbformat": 4,
 "nbformat_minor": 5
}
